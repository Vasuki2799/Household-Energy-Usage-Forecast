{
 "cells": [
  {
   "cell_type": "code",
   "execution_count": 53,
   "id": "95f5dacf",
   "metadata": {},
   "outputs": [],
   "source": [
    "import pandas as pd\n",
    "import numpy as np\n",
    "import zipfile\n",
    "import joblib\n",
    "import os\n",
    "import matplotlib.pyplot as plt\n",
    "import seaborn as sns\n",
    "from sklearn.model_selection import train_test_split\n",
    "from sklearn.preprocessing import StandardScaler\n",
    "from sklearn.model_selection import train_test_split\n",
    "from sklearn.ensemble import RandomForestRegressor\n",
    "from sklearn.preprocessing import StandardScaler\n",
    "from sklearn.ensemble import GradientBoostingRegressor\n",
    "from sklearn.model_selection import GridSearchCV\n",
    "from sklearn.ensemble import RandomForestRegressor\n",
    "from sklearn.linear_model import LinearRegression\n",
    "from sklearn.metrics import mean_absolute_error, mean_squared_error, r2_score\n",
    "\n"
   ]
  },
  {
   "cell_type": "code",
   "execution_count": 2,
   "id": "64991df3",
   "metadata": {},
   "outputs": [
    {
     "name": "stdout",
     "output_type": "stream",
     "text": [
      "Extracted Files: ['household_power_consumption.txt']\n"
     ]
    }
   ],
   "source": [
    "import zipfile\n",
    "\n",
    "zip_path = \"/Users/arul/Downloads/individual+household+electric+power+consumption.zip\"  # Replace with actual ZIP filename\n",
    "extract_path = \"extracted_data\"\n",
    "\n",
    "# Extract the ZIP file\n",
    "with zipfile.ZipFile(zip_path, 'r') as z:\n",
    "    z.extractall(extract_path)\n",
    "\n",
    "# List extracted files\n",
    "import os\n",
    "file_list = os.listdir(extract_path)\n",
    "print(\"Extracted Files:\", file_list)\n"
   ]
  },
  {
   "cell_type": "code",
   "execution_count": 3,
   "id": "fba6ed06",
   "metadata": {},
   "outputs": [
    {
     "name": "stdout",
     "output_type": "stream",
     "text": [
      "['household_power_consumption.txt']\n"
     ]
    }
   ],
   "source": [
    "import os\n",
    "\n",
    "extract_path = \"extracted_data\"\n",
    "print(os.listdir(extract_path))  # This will print the actual filename\n"
   ]
  },
  {
   "cell_type": "code",
   "execution_count": 79,
   "id": "7628d9ae",
   "metadata": {},
   "outputs": [],
   "source": [
    "import pandas as pd\n",
    "\n",
    "# Replace 'your_file.txt' with the actual filename\n",
    "file_path = \"extracted_data/household_power_consumption.txt\"  \n",
    "\n",
    "\n",
    "# Read the text file and convert it to CSV\n",
    "df = pd.read_csv(file_path, delimiter=\",\")  # Change delimiter if needed\n",
    "df.to_csv(\"converted_file.csv\", index=False)\n",
    "\n",
    "print(\"TXT file converted to CSV successfully!\")\n"
   ]
  },
  {
   "cell_type": "code",
   "execution_count": 78,
   "id": "7dc87178",
   "metadata": {},
   "outputs": [
    {
     "name": "stdout",
     "output_type": "stream",
     "text": [
      "File converted successfully to 'converted_file.csv'\n"
     ]
    }
   ],
   "source": [
    "# Read the text file with ';' as separator\n",
    "df = pd.read_csv(\"extracted_data/household_power_consumption.txt\", sep=';', engine='python')\n",
    "\n",
    "# Save the DataFrame to a CSV file with proper formatting\n",
    "df.to_csv(\"converted_file1.csv\", index=False, sep=',')\n",
    "\n",
    "print(\"File converted successfully to 'converted_file.csv'\")"
   ]
  },
  {
   "cell_type": "code",
   "execution_count": null,
   "id": "91faf24e",
   "metadata": {},
   "outputs": [],
   "source": []
  },
  {
   "cell_type": "code",
   "execution_count": null,
   "id": "2129858b",
   "metadata": {},
   "outputs": [],
   "source": [
    "df = pd.read_csv(\"converted_file.csv\", delimiter= ';')\n",
    "df.head()\n"
   ]
  },
  {
   "cell_type": "code",
   "execution_count": 7,
   "id": "99b1dd9a",
   "metadata": {},
   "outputs": [
    {
     "name": "stdout",
     "output_type": "stream",
     "text": [
      "<class 'pandas.core.frame.DataFrame'>\n",
      "RangeIndex: 2075259 entries, 0 to 2075258\n",
      "Data columns (total 9 columns):\n",
      " #   Column                 Dtype  \n",
      "---  ------                 -----  \n",
      " 0   Date                   object \n",
      " 1   Time                   object \n",
      " 2   Global_active_power    object \n",
      " 3   Global_reactive_power  object \n",
      " 4   Voltage                object \n",
      " 5   Global_intensity       object \n",
      " 6   Sub_metering_1         object \n",
      " 7   Sub_metering_2         object \n",
      " 8   Sub_metering_3         float64\n",
      "dtypes: float64(1), object(8)\n",
      "memory usage: 142.5+ MB\n"
     ]
    }
   ],
   "source": [
    "# Check the Data Structure\n",
    "\n",
    "df.info()\n"
   ]
  },
  {
   "cell_type": "code",
   "execution_count": 8,
   "id": "d26075d9",
   "metadata": {},
   "outputs": [
    {
     "data": {
      "text/html": [
       "<div>\n",
       "<style scoped>\n",
       "    .dataframe tbody tr th:only-of-type {\n",
       "        vertical-align: middle;\n",
       "    }\n",
       "\n",
       "    .dataframe tbody tr th {\n",
       "        vertical-align: top;\n",
       "    }\n",
       "\n",
       "    .dataframe thead th {\n",
       "        text-align: right;\n",
       "    }\n",
       "</style>\n",
       "<table border=\"1\" class=\"dataframe\">\n",
       "  <thead>\n",
       "    <tr style=\"text-align: right;\">\n",
       "      <th></th>\n",
       "      <th>Sub_metering_3</th>\n",
       "    </tr>\n",
       "  </thead>\n",
       "  <tbody>\n",
       "    <tr>\n",
       "      <th>count</th>\n",
       "      <td>2.049280e+06</td>\n",
       "    </tr>\n",
       "    <tr>\n",
       "      <th>mean</th>\n",
       "      <td>6.458447e+00</td>\n",
       "    </tr>\n",
       "    <tr>\n",
       "      <th>std</th>\n",
       "      <td>8.437154e+00</td>\n",
       "    </tr>\n",
       "    <tr>\n",
       "      <th>min</th>\n",
       "      <td>0.000000e+00</td>\n",
       "    </tr>\n",
       "    <tr>\n",
       "      <th>25%</th>\n",
       "      <td>0.000000e+00</td>\n",
       "    </tr>\n",
       "    <tr>\n",
       "      <th>50%</th>\n",
       "      <td>1.000000e+00</td>\n",
       "    </tr>\n",
       "    <tr>\n",
       "      <th>75%</th>\n",
       "      <td>1.700000e+01</td>\n",
       "    </tr>\n",
       "    <tr>\n",
       "      <th>max</th>\n",
       "      <td>3.100000e+01</td>\n",
       "    </tr>\n",
       "  </tbody>\n",
       "</table>\n",
       "</div>"
      ],
      "text/plain": [
       "       Sub_metering_3\n",
       "count    2.049280e+06\n",
       "mean     6.458447e+00\n",
       "std      8.437154e+00\n",
       "min      0.000000e+00\n",
       "25%      0.000000e+00\n",
       "50%      1.000000e+00\n",
       "75%      1.700000e+01\n",
       "max      3.100000e+01"
      ]
     },
     "execution_count": 8,
     "metadata": {},
     "output_type": "execute_result"
    }
   ],
   "source": [
    "# Display Basic Statistics\n",
    "\n",
    "df.describe()\n"
   ]
  },
  {
   "cell_type": "code",
   "execution_count": 9,
   "id": "64b845bc",
   "metadata": {},
   "outputs": [
    {
     "data": {
      "text/plain": [
       "Date                         0\n",
       "Time                         0\n",
       "Global_active_power          0\n",
       "Global_reactive_power        0\n",
       "Voltage                      0\n",
       "Global_intensity             0\n",
       "Sub_metering_1               0\n",
       "Sub_metering_2               0\n",
       "Sub_metering_3           25979\n",
       "dtype: int64"
      ]
     },
     "execution_count": 9,
     "metadata": {},
     "output_type": "execute_result"
    }
   ],
   "source": [
    "# Check for Missing Values\n",
    "\n",
    "df.isnull().sum()\n"
   ]
  },
  {
   "cell_type": "code",
   "execution_count": 10,
   "id": "aefb2b36",
   "metadata": {},
   "outputs": [
    {
     "data": {
      "text/plain": [
       "Index(['Date', 'Time', 'Global_active_power', 'Global_reactive_power',\n",
       "       'Voltage', 'Global_intensity', 'Sub_metering_1', 'Sub_metering_2',\n",
       "       'Sub_metering_3'],\n",
       "      dtype='object')"
      ]
     },
     "execution_count": 10,
     "metadata": {},
     "output_type": "execute_result"
    }
   ],
   "source": [
    "# Display Column Names\n",
    "\n",
    "df.columns\n"
   ]
  },
  {
   "cell_type": "code",
   "execution_count": 11,
   "id": "3c34f244",
   "metadata": {},
   "outputs": [
    {
     "data": {
      "text/plain": [
       "0"
      ]
     },
     "execution_count": 11,
     "metadata": {},
     "output_type": "execute_result"
    }
   ],
   "source": [
    "# Check for Duplicate Rows\n",
    "\n",
    "df.duplicated().sum()\n"
   ]
  },
  {
   "cell_type": "code",
   "execution_count": 12,
   "id": "8fe65706",
   "metadata": {},
   "outputs": [
    {
     "data": {
      "text/plain": [
       "(2075259, 9)"
      ]
     },
     "execution_count": 12,
     "metadata": {},
     "output_type": "execute_result"
    }
   ],
   "source": [
    "# total number of rows\n",
    "\n",
    "df.shape  # Returns (rows, columns)\n"
   ]
  },
  {
   "cell_type": "code",
   "execution_count": 13,
   "id": "a6f37264",
   "metadata": {},
   "outputs": [],
   "source": [
    "# Fill with Median (Best for Skewed Data)\n",
    "\n",
    "df['Sub_metering_3'].fillna(df['Sub_metering_3'].median(), inplace=True)\n"
   ]
  },
  {
   "cell_type": "code",
   "execution_count": 14,
   "id": "79e3a1b8",
   "metadata": {},
   "outputs": [
    {
     "name": "stdout",
     "output_type": "stream",
     "text": [
      "0\n"
     ]
    }
   ],
   "source": [
    "# Verify Missing Values Are Filled\n",
    "\n",
    "print(df['Sub_metering_3'].isnull().sum())  # Should print 0\n"
   ]
  },
  {
   "cell_type": "code",
   "execution_count": 15,
   "id": "d0571b30",
   "metadata": {},
   "outputs": [
    {
     "data": {
      "text/plain": [
       "Date                     0\n",
       "Time                     0\n",
       "Global_active_power      0\n",
       "Global_reactive_power    0\n",
       "Voltage                  0\n",
       "Global_intensity         0\n",
       "Sub_metering_1           0\n",
       "Sub_metering_2           0\n",
       "Sub_metering_3           0\n",
       "dtype: int64"
      ]
     },
     "execution_count": 15,
     "metadata": {},
     "output_type": "execute_result"
    }
   ],
   "source": [
    "# Check for Any Remaining Missing Data\n",
    "\n",
    "df.isnull().sum()\n"
   ]
  },
  {
   "cell_type": "code",
   "execution_count": 16,
   "id": "e5da0594",
   "metadata": {},
   "outputs": [
    {
     "data": {
      "text/plain": [
       "Index(['Date', 'Time', 'Global_active_power', 'Global_reactive_power',\n",
       "       'Voltage', 'Global_intensity', 'Sub_metering_1', 'Sub_metering_2',\n",
       "       'Sub_metering_3'],\n",
       "      dtype='object')"
      ]
     },
     "execution_count": 16,
     "metadata": {},
     "output_type": "execute_result"
    }
   ],
   "source": [
    "# Convert Date & Time to Separate Features\n",
    "\n",
    "# Check if ‘Date’ or ‘Datetime’ Column Exists\n",
    "\n",
    "df.columns\n"
   ]
  },
  {
   "cell_type": "code",
   "execution_count": 17,
   "id": "cbe67acd",
   "metadata": {},
   "outputs": [],
   "source": [
    "# Convert to DateTime Format \n",
    "\n",
    "df['Datetime'] = pd.to_datetime(df['Date'] + ' ' + df['Time'])\n"
   ]
  },
  {
   "cell_type": "code",
   "execution_count": 18,
   "id": "ea4ebd5b",
   "metadata": {},
   "outputs": [],
   "source": [
    "# Extract Useful Time Features\n",
    "\n",
    "#new columns from Datetime:\n",
    "\n",
    "df['Year'] = df['Datetime'].dt.year\n",
    "df['Month'] = df['Datetime'].dt.month\n",
    "df['Day'] = df['Datetime'].dt.day\n",
    "df['Hour'] = df['Datetime'].dt.hour\n",
    "df['Weekday'] = df['Datetime'].dt.weekday  # 0 = Monday, 6 = Sunday\n",
    "df['Weekend'] = (df['Weekday'] >= 5).astype(int)  # 1 for Saturday/Sunday\n"
   ]
  },
  {
   "cell_type": "code",
   "execution_count": 19,
   "id": "9239aad8",
   "metadata": {},
   "outputs": [],
   "source": [
    "# Create Rolling Average Features\n",
    "\n",
    "df['Rolling_Mean_3hr'] = df['Sub_metering_3'].rolling(window=3).mean()\n",
    "df['Rolling_Mean_6hr'] = df['Sub_metering_3'].rolling(window=6).mean()\n"
   ]
  },
  {
   "cell_type": "code",
   "execution_count": 20,
   "id": "76a9c1a4",
   "metadata": {},
   "outputs": [
    {
     "data": {
      "image/png": "[encoded data removed]",
      "text/plain": [
       "<Figure size 1200x500 with 1 Axes>"
      ]
     },
     "metadata": {},
     "output_type": "display_data"
    }
   ],
   "source": [
    "# Exploratory Data Analysis (EDA)\n",
    "\n",
    "# Visualize Overall Energy Consumption Trends\n",
    "\n",
    "import matplotlib.pyplot as plt\n",
    "\n",
    "plt.figure(figsize=(12,5))\n",
    "plt.plot(df['Datetime'], df['Sub_metering_3'], color='green', label='Sub_metering_3')\n",
    "plt.xlabel('Time')\n",
    "plt.ylabel('Energy Consumption')\n",
    "plt.title('Energy Consumption Over Time')\n",
    "plt.legend()\n",
    "plt.show()\n",
    "\n",
    "# This helps identify patterns like peaks or drops in usage."
   ]
  },
  {
   "cell_type": "code",
   "execution_count": 21,
   "id": "992cd5fa",
   "metadata": {},
   "outputs": [
    {
     "data": {
      "image/png": "[encoded data removed]",
      "text/plain": [
       "<Figure size 800x500 with 1 Axes>"
      ]
     },
     "metadata": {},
     "output_type": "display_data"
    }
   ],
   "source": [
    "# Check Distribution of Energy Usage\n",
    "\n",
    "import seaborn as sns\n",
    "\n",
    "plt.figure(figsize=(8,5))\n",
    "sns.histplot(df['Sub_metering_3'], bins=50, kde=True)\n",
    "plt.title('Distribution of Sub_metering_3')\n",
    "plt.show()\n",
    "\n",
    "# This shows whether energy consumption is normally distributed or skewed."
   ]
  },
  {
   "cell_type": "code",
   "execution_count": 22,
   "id": "1dcfc674",
   "metadata": {},
   "outputs": [
    {
     "data": {
      "image/png": "[encoded data removed]",
      "text/plain": [
       "<Figure size 800x500 with 1 Axes>"
      ]
     },
     "metadata": {},
     "output_type": "display_data"
    }
   ],
   "source": [
    "# Compare Energy Consumption by Hour\n",
    "\n",
    "plt.figure(figsize=(8,5))\n",
    "sns.boxplot(x=df['Hour'], y=df['Sub_metering_3'])\n",
    "plt.xlabel(\"Hour of the Day\")\n",
    "plt.ylabel(\"Energy Consumption\")\n",
    "plt.title(\"Energy Consumption by Hour\")\n",
    "plt.show()\n",
    "\n",
    "# Helps detect when peak energy usage happens."
   ]
  },
  {
   "cell_type": "code",
   "execution_count": 23,
   "id": "74cc3728",
   "metadata": {},
   "outputs": [
    {
     "name": "stderr",
     "output_type": "stream",
     "text": [
      "/var/folders/5_/gr87l7990pq6c1zhr9t2t40r0000gn/T/ipykernel_28423/1167453032.py:4: FutureWarning: The default value of numeric_only in DataFrame.corr is deprecated. In a future version, it will default to False. Select only valid columns or specify the value of numeric_only to silence this warning.\n",
      "  sns.heatmap(df.corr(), annot=True, cmap=\"coolwarm\", fmt=\".2f\")\n"
     ]
    },
    {
     "data": {
      "image/png": "[encoded data removed]",
      "text/plain": [
       "<Figure size 1000x600 with 2 Axes>"
      ]
     },
     "metadata": {},
     "output_type": "display_data"
    }
   ],
   "source": [
    "# Find Correlations Between Features\n",
    "\n",
    "plt.figure(figsize=(10,6))\n",
    "sns.heatmap(df.corr(), annot=True, cmap=\"coolwarm\", fmt=\".2f\")\n",
    "plt.title(\"Feature Correlation Heatmap\")\n",
    "plt.show()\n",
    "\n",
    "# Tells us which features are most related to energy consumption.\n"
   ]
  },
  {
   "cell_type": "code",
   "execution_count": 24,
   "id": "374f50fe",
   "metadata": {},
   "outputs": [],
   "source": [
    "# data preparation for machine learning.\n",
    "\n",
    "# Prepare Data for Model Training (need to select relevant features, split the data, and scale it for better performance)\n",
    "\n",
    "# Select Features & Target Variable\n",
    "\n",
    "# Define features (X) and target variable (y)\n",
    "X = df[['Hour', 'Weekday', 'Month', 'Rolling_Mean_3hr', 'Rolling_Mean_6hr']]  # Select relevant features\n",
    "y = df['Sub_metering_3']  # Target variable\n",
    "\n",
    "\n"
   ]
  },
  {
   "cell_type": "code",
   "execution_count": 25,
   "id": "6334a02b",
   "metadata": {},
   "outputs": [
    {
     "name": "stdout",
     "output_type": "stream",
     "text": [
      "Training Set Size: (1660207, 5)\n",
      "Testing Set Size: (415052, 5)\n"
     ]
    }
   ],
   "source": [
    "# Split Data into Training & Testing Sets\n",
    "\n",
    "from sklearn.model_selection import train_test_split\n",
    "\n",
    "X_train, X_test, y_train, y_test = train_test_split(X, y, test_size=0.2, random_state=42)\n",
    "\n",
    "print(\"Training Set Size:\", X_train.shape)\n",
    "print(\"Testing Set Size:\", X_test.shape)\n",
    "\n",
    "# We train the model on 80% of the data and test it on 20%."
   ]
  },
  {
   "cell_type": "code",
   "execution_count": 26,
   "id": "64c59d99",
   "metadata": {},
   "outputs": [],
   "source": [
    "# Scale the Features (If Needed)\n",
    "\n",
    "from sklearn.preprocessing import StandardScaler\n",
    "\n",
    "scaler = StandardScaler()\n",
    "X_train_scaled = scaler.fit_transform(X_train)\n",
    "X_test_scaled = scaler.transform(X_test)\n",
    "\n",
    "# Ensures all features are on a similar scale, improving model accuracy.\n"
   ]
  },
  {
   "cell_type": "code",
   "execution_count": 27,
   "id": "d42b48a5",
   "metadata": {},
   "outputs": [],
   "source": [
    "# Model selection and training\n",
    "\n",
    "# Train Regression Models"
   ]
  },
  {
   "cell_type": "code",
   "execution_count": 28,
   "id": "9521777c",
   "metadata": {},
   "outputs": [
    {
     "name": "stdout",
     "output_type": "stream",
     "text": [
      "Missing values in X_train_scaled: 6\n",
      "Missing values in X_test_scaled: 1\n"
     ]
    }
   ],
   "source": [
    "import numpy as np\n",
    "\n",
    "print(\"Missing values in X_train_scaled:\", np.isnan(X_train_scaled).sum())\n",
    "print(\"Missing values in X_test_scaled:\", np.isnan(X_test_scaled).sum())\n"
   ]
  },
  {
   "cell_type": "code",
   "execution_count": 29,
   "id": "38ed8d91",
   "metadata": {},
   "outputs": [
    {
     "name": "stdout",
     "output_type": "stream",
     "text": [
      "Hour                0\n",
      "Weekday             0\n",
      "Month               0\n",
      "Rolling_Mean_3hr    2\n",
      "Rolling_Mean_6hr    5\n",
      "dtype: int64\n"
     ]
    }
   ],
   "source": [
    "print(X.isnull().sum())\n"
   ]
  },
  {
   "cell_type": "code",
   "execution_count": 30,
   "id": "c92184ff",
   "metadata": {},
   "outputs": [],
   "source": [
    "X = df[['Hour', 'Weekday', 'Month', 'Rolling_Mean_3hr', 'Rolling_Mean_6hr']].copy()\n",
    "X.fillna(X.median(), inplace=True)  # Now it works safely\n"
   ]
  },
  {
   "cell_type": "code",
   "execution_count": 31,
   "id": "788344c8",
   "metadata": {},
   "outputs": [],
   "source": [
    "X.fillna(X.median(), inplace=True)\n"
   ]
  },
  {
   "cell_type": "code",
   "execution_count": 32,
   "id": "02150248",
   "metadata": {},
   "outputs": [
    {
     "name": "stdout",
     "output_type": "stream",
     "text": [
      "Hour                0\n",
      "Weekday             0\n",
      "Month               0\n",
      "Rolling_Mean_3hr    0\n",
      "Rolling_Mean_6hr    0\n",
      "dtype: int64\n"
     ]
    }
   ],
   "source": [
    "print(X.isnull().sum())\n"
   ]
  },
  {
   "cell_type": "code",
   "execution_count": 38,
   "id": "f8364482",
   "metadata": {},
   "outputs": [],
   "source": [
    "# Train a Simple Linear Regression Model\n",
    "\n",
    "from sklearn.model_selection import train_test_split\n",
    "from sklearn.preprocessing import StandardScaler\n",
    "\n",
    "# Re-split the data\n",
    "X_train, X_test, y_train, y_test = train_test_split(X, y, test_size=0.2, random_state=42)\n",
    "\n",
    "# Re-scale the data\n",
    "scaler = StandardScaler()\n",
    "X_train_scaled = scaler.fit_transform(X_train)\n",
    "X_test_scaled = scaler.transform(X_test)\n",
    "\n",
    "\n",
    "# Re-split the data\n",
    "X_train, X_test, y_train, y_test = train_test_split(X, y, test_size=0.2, random_state=42)\n",
    "\n",
    "# Re-scale the data\n",
    "scaler = StandardScaler()\n",
    "X_train_scaled = scaler.fit_transform(X_train)\n",
    "X_test_scaled = scaler.transform(X_test)\n"
   ]
  },
  {
   "cell_type": "code",
   "execution_count": 41,
   "id": "345b737e",
   "metadata": {},
   "outputs": [
    {
     "name": "stdout",
     "output_type": "stream",
     "text": [
      "Linear Regression Performance:\n",
      "MAE: 0.475\n",
      "RMSE: 1.060\n",
      "R² Score: 0.984\n"
     ]
    }
   ],
   "source": [
    "lr_model = LinearRegression()\n",
    "lr_model.fit(X_train_scaled, y_train)\n",
    "\n",
    "y_pred_lr = lr_model.predict(X_test_scaled)\n",
    "\n",
    "mae = mean_absolute_error(y_test, y_pred_lr)\n",
    "rmse = mean_squared_error(y_test, y_pred_lr, squared=False)\n",
    "r2 = r2_score(y_test, y_pred_lr)\n",
    "\n",
    "print(f\"Linear Regression Performance:\\nMAE: {mae:.3f}\\nRMSE: {rmse:.3f}\\nR² Score: {r2:.3f}\")\n"
   ]
  },
  {
   "cell_type": "code",
   "execution_count": 42,
   "id": "bffe599a",
   "metadata": {},
   "outputs": [
    {
     "name": "stdout",
     "output_type": "stream",
     "text": [
      "Random Forest Performance:\n",
      "MAE: 0.260\n",
      "RMSE: 0.510\n",
      "R² Score: 0.996\n"
     ]
    }
   ],
   "source": [
    "# Train a Random Forest Model\n",
    "\n",
    "from sklearn.ensemble import RandomForestRegressor\n",
    "\n",
    "rf_model = RandomForestRegressor(n_estimators=100, random_state=42)\n",
    "rf_model.fit(X_train_scaled, y_train)\n",
    "\n",
    "y_pred_rf = rf_model.predict(X_test_scaled)\n",
    "\n",
    "# Evaluate\n",
    "mae_rf = mean_absolute_error(y_test, y_pred_rf)\n",
    "rmse_rf = mean_squared_error(y_test, y_pred_rf, squared=False)\n",
    "r2_rf = r2_score(y_test, y_pred_rf)\n",
    "\n",
    "print(f\"Random Forest Performance:\\nMAE: {mae_rf:.3f}\\nRMSE: {rmse_rf:.3f}\\nR² Score: {r2_rf:.3f}\")\n",
    "\n",
    "# Random Forest captures non-linear patterns better than Linear Regression.\n"
   ]
  },
  {
   "cell_type": "code",
   "execution_count": 43,
   "id": "4ff71e05",
   "metadata": {},
   "outputs": [
    {
     "name": "stdout",
     "output_type": "stream",
     "text": [
      "Gradient Boosting Performance:\n",
      "MAE: 0.284\n",
      "RMSE: 0.561\n",
      "R² Score: 0.996\n"
     ]
    }
   ],
   "source": [
    "# Train a Gradient Boosting Model\n",
    "\n",
    "from sklearn.ensemble import GradientBoostingRegressor\n",
    "\n",
    "gb_model = GradientBoostingRegressor(n_estimators=100, learning_rate=0.1, random_state=42)\n",
    "gb_model.fit(X_train_scaled, y_train)\n",
    "\n",
    "y_pred_gb = gb_model.predict(X_test_scaled)\n",
    "\n",
    "# Evaluate\n",
    "mae_gb = mean_absolute_error(y_test, y_pred_gb)\n",
    "rmse_gb = mean_squared_error(y_test, y_pred_gb, squared=False)\n",
    "r2_gb = r2_score(y_test, y_pred_gb)\n",
    "\n",
    "print(f\"Gradient Boosting Performance:\\nMAE: {mae_gb:.3f}\\nRMSE: {rmse_gb:.3f}\\nR² Score: {r2_gb:.3f}\")\n",
    "\n",
    "#  Boosting models handle outliers and complex patterns effectively.\n"
   ]
  },
  {
   "cell_type": "code",
   "execution_count": 44,
   "id": "75bfccee",
   "metadata": {},
   "outputs": [
    {
     "name": "stdout",
     "output_type": "stream",
     "text": [
      "               Model       MAE      RMSE  R² Score\n",
      "1      Random Forest  0.260285  0.510495  0.996310\n",
      "2  Gradient Boosting  0.283580  0.560784  0.995548\n",
      "0  Linear Regression  0.474584  1.060185  0.984086\n"
     ]
    }
   ],
   "source": [
    "# Compare Model Performance\n",
    "\n",
    "import pandas as pd\n",
    "\n",
    "results = pd.DataFrame({\n",
    "    \"Model\": [\"Linear Regression\", \"Random Forest\", \"Gradient Boosting\"],\n",
    "    \"MAE\": [mae, mae_rf, mae_gb],\n",
    "    \"RMSE\": [rmse, rmse_rf, rmse_gb],\n",
    "    \"R² Score\": [r2, r2_rf, r2_gb]\n",
    "})\n",
    "\n",
    "print(results.sort_values(by=\"R² Score\", ascending=False))\n",
    "\n",
    "# The model with the highest R² score and lowest RMSE is the best."
   ]
  },
  {
   "cell_type": "code",
   "execution_count": 45,
   "id": "19208863",
   "metadata": {},
   "outputs": [],
   "source": [
    "# Random Forest performed the best,fine-tune it with hyperparameter tuning for even better accuracy.\n",
    "\n",
    "# Hyperparameter Tuning for Random Forest"
   ]
  },
  {
   "cell_type": "code",
   "execution_count": 47,
   "id": "de642e83",
   "metadata": {},
   "outputs": [
    {
     "name": "stdout",
     "output_type": "stream",
     "text": [
      "Fitting 3 folds for each of 10 candidates, totalling 30 fits\n",
      "Best Parameters: {'n_estimators': 100, 'min_samples_split': 10, 'max_depth': 20}\n"
     ]
    }
   ],
   "source": [
    "from sklearn.model_selection import RandomizedSearchCV\n",
    "import numpy as np\n",
    "\n",
    "param_dist = {\n",
    "    'n_estimators': np.arange(50, 200, 50),  # Randomly choose from 50, 100, 150\n",
    "    'max_depth': np.arange(10, 30, 10),  # Randomly choose from 10, 20\n",
    "    'min_samples_split': [2, 5, 10]\n",
    "}\n",
    "\n",
    "# Randomized search with 10 random combinations\n",
    "random_search = RandomizedSearchCV(rf, param_dist, n_iter=10, cv=3, scoring='neg_mean_squared_error', n_jobs=-1, verbose=1, random_state=42)\n",
    "random_search.fit(X_train_scaled, y_train)\n",
    "\n",
    "print(\"Best Parameters:\", random_search.best_params_)\n",
    "best_rf = random_search.best_estimator_\n",
    "\n",
    "# Hyperparameter tuning helps improve model performance by selecting the best settings automatically.\n"
   ]
  },
  {
   "cell_type": "code",
   "execution_count": 48,
   "id": "75f2fccc",
   "metadata": {},
   "outputs": [],
   "source": [
    "# Evaluate the Optimized Random Forest Model\n",
    "\n",
    "# Make Predictions\n",
    "\n",
    "# Predict using the optimized model\n",
    "y_pred_best_rf = best_rf.predict(X_test_scaled)\n"
   ]
  },
  {
   "cell_type": "code",
   "execution_count": 49,
   "id": "cb3c1296",
   "metadata": {},
   "outputs": [
    {
     "name": "stdout",
     "output_type": "stream",
     "text": [
      "Optimized Random Forest Performance:\n",
      "MAE: 0.257\n",
      "RMSE: 0.491\n",
      "R² Score: 0.997\n"
     ]
    }
   ],
   "source": [
    "# Evaluate the Model Performance\n",
    "\n",
    "from sklearn.metrics import mean_absolute_error, mean_squared_error, r2_score\n",
    "\n",
    "mae_rf_best = mean_absolute_error(y_test, y_pred_best_rf)\n",
    "rmse_rf_best = mean_squared_error(y_test, y_pred_best_rf, squared=False)\n",
    "r2_rf_best = r2_score(y_test, y_pred_best_rf)\n",
    "\n",
    "print(f\"Optimized Random Forest Performance:\\nMAE: {mae_rf_best:.3f}\\nRMSE: {rmse_rf_best:.3f}\\nR² Score: {r2_rf_best:.3f}\")\n"
   ]
  },
  {
   "cell_type": "code",
   "execution_count": 50,
   "id": "457716b7",
   "metadata": {},
   "outputs": [
    {
     "name": "stdout",
     "output_type": "stream",
     "text": [
      "                           Model       MAE      RMSE  R² Score\n",
      "1   Random Forest (After Tuning)  0.256570  0.490904  0.996588\n",
      "0  Random Forest (Before Tuning)  0.260285  0.510495  0.996310\n"
     ]
    }
   ],
   "source": [
    "# Compare with the Initial Random Forest Model\n",
    "\n",
    "results = pd.DataFrame({\n",
    "    \"Model\": [\"Random Forest (Before Tuning)\", \"Random Forest (After Tuning)\"],\n",
    "    \"MAE\": [mae_rf, mae_rf_best],\n",
    "    \"RMSE\": [rmse_rf, rmse_rf_best],\n",
    "    \"R² Score\": [r2_rf, r2_rf_best]\n",
    "})\n",
    "\n",
    "print(results.sort_values(by=\"R² Score\", ascending=False))\n"
   ]
  },
  {
   "cell_type": "code",
   "execution_count": null,
   "id": "cb838c5d",
   "metadata": {},
   "outputs": [],
   "source": [
    "# Save the Model for Deployment\n",
    "\n",
    "# save the trained model "
   ]
  },
  {
   "cell_type": "code",
   "execution_count": 51,
   "id": "035579dc",
   "metadata": {},
   "outputs": [
    {
     "name": "stdout",
     "output_type": "stream",
     "text": [
      "Model and scaler saved successfully!\n"
     ]
    }
   ],
   "source": [
    "# Save the Optimized Model using Joblib\n",
    "\n",
    "import joblib\n",
    "\n",
    "# Save the best model\n",
    "joblib.dump(best_rf, \"powerpulse_rf_model.pkl\")\n",
    "\n",
    "# Save the scaler (needed for Streamlit)\n",
    "joblib.dump(scaler, \"scaler.pkl\")\n",
    "\n",
    "print(\"Model and scaler saved successfully!\")\n"
   ]
  },
  {
   "cell_type": "code",
   "execution_count": 52,
   "id": "2f3ee9e9",
   "metadata": {},
   "outputs": [
    {
     "name": "stdout",
     "output_type": "stream",
     "text": [
      "Predicted Energy Consumption: 0.712\n"
     ]
    },
    {
     "name": "stderr",
     "output_type": "stream",
     "text": [
      "/Users/arul/anaconda3/lib/python3.11/site-packages/sklearn/base.py:439: UserWarning: X does not have valid feature names, but StandardScaler was fitted with feature names\n",
      "  warnings.warn(\n"
     ]
    }
   ],
   "source": [
    "# Test Loading the Model\n",
    "\n",
    "# Load the saved model\n",
    "loaded_model = joblib.load(\"powerpulse_rf_model.pkl\")\n",
    "\n",
    "# Load the scaler\n",
    "loaded_scaler = joblib.load(\"scaler.pkl\")\n",
    "\n",
    "# Test prediction with first test sample\n",
    "sample = X_test.iloc[0, :].values.reshape(1, -1)\n",
    "sample_scaled = loaded_scaler.transform(sample)\n",
    "\n",
    "predicted_value = loaded_model.predict(sample_scaled)\n",
    "print(f\"Predicted Energy Consumption: {predicted_value[0]:.3f}\")\n"
   ]
  },
  {
   "cell_type": "code",
   "execution_count": null,
   "id": "2aeb3b01",
   "metadata": {},
   "outputs": [],
   "source": [
    "# Final Checklist for Jupyter Notebook"
   ]
  },
  {
   "cell_type": "code",
   "execution_count": 54,
   "id": "90205904",
   "metadata": {},
   "outputs": [
    {
     "name": "stdout",
     "output_type": "stream",
     "text": [
      "Missing values in dataset:\n",
      " Date                     0\n",
      "Time                     0\n",
      "Global_active_power      0\n",
      "Global_reactive_power    0\n",
      "Voltage                  0\n",
      "Global_intensity         0\n",
      "Sub_metering_1           0\n",
      "Sub_metering_2           0\n",
      "Sub_metering_3           0\n",
      "Datetime                 0\n",
      "Year                     0\n",
      "Month                    0\n",
      "Day                      0\n",
      "Hour                     0\n",
      "Weekday                  0\n",
      "Weekend                  0\n",
      "Rolling_Mean_3hr         2\n",
      "Rolling_Mean_6hr         5\n",
      "dtype: int64\n"
     ]
    }
   ],
   "source": [
    "# Ensure No Missing Values Exist\n",
    "\n",
    "print(\"Missing values in dataset:\\n\", df.isnull().sum())\n"
   ]
  },
  {
   "cell_type": "code",
   "execution_count": 55,
   "id": "423eff8f",
   "metadata": {},
   "outputs": [],
   "source": [
    "# Fix Missing Values in Rolling_Mean_3hr & Rolling_Mean_6hr\n",
    "\n",
    "#Fill Missing Values with Median (Recommended)\n",
    "\n",
    "df['Rolling_Mean_3hr'].fillna(df['Rolling_Mean_3hr'].median(), inplace=True)\n",
    "df['Rolling_Mean_6hr'].fillna(df['Rolling_Mean_6hr'].median(), inplace=True)\n"
   ]
  },
  {
   "cell_type": "code",
   "execution_count": 56,
   "id": "0ed43254",
   "metadata": {},
   "outputs": [
    {
     "name": "stdout",
     "output_type": "stream",
     "text": [
      "Missing values after filling:\n",
      " Date                     0\n",
      "Time                     0\n",
      "Global_active_power      0\n",
      "Global_reactive_power    0\n",
      "Voltage                  0\n",
      "Global_intensity         0\n",
      "Sub_metering_1           0\n",
      "Sub_metering_2           0\n",
      "Sub_metering_3           0\n",
      "Datetime                 0\n",
      "Year                     0\n",
      "Month                    0\n",
      "Day                      0\n",
      "Hour                     0\n",
      "Weekday                  0\n",
      "Weekend                  0\n",
      "Rolling_Mean_3hr         0\n",
      "Rolling_Mean_6hr         0\n",
      "dtype: int64\n"
     ]
    }
   ],
   "source": [
    "# Verify Missing Values Are Fixed\n",
    "\n",
    "print(\"Missing values after filling:\\n\", df.isnull().sum())\n"
   ]
  },
  {
   "cell_type": "code",
   "execution_count": 57,
   "id": "5139f0ea",
   "metadata": {},
   "outputs": [
    {
     "name": "stdout",
     "output_type": "stream",
     "text": [
      "Model and Scaler Updated & Saved!\n"
     ]
    }
   ],
   "source": [
    "# Re-run Model Saving Steps\n",
    "\n",
    "# Split Data Again\n",
    "X = df[['Hour', 'Weekday', 'Month', 'Rolling_Mean_3hr', 'Rolling_Mean_6hr']]\n",
    "y = df['Sub_metering_3']\n",
    "\n",
    "from sklearn.model_selection import train_test_split\n",
    "X_train, X_test, y_train, y_test = train_test_split(X, y, test_size=0.2, random_state=42)\n",
    "\n",
    "# Scale Data Again\n",
    "from sklearn.preprocessing import StandardScaler\n",
    "scaler = StandardScaler()\n",
    "X_train_scaled = scaler.fit_transform(X_train)\n",
    "X_test_scaled = scaler.transform(X_test)\n",
    "\n",
    "# Retrain Best Model\n",
    "best_rf.fit(X_train_scaled, y_train)\n",
    "\n",
    "# Save Model & Scaler Again\n",
    "import joblib\n",
    "joblib.dump(best_rf, \"powerpulse_rf_model.pkl\")\n",
    "joblib.dump(scaler, \"scaler.pkl\")\n",
    "\n",
    "print(\"Model and Scaler Updated & Saved!\")\n"
   ]
  },
  {
   "cell_type": "code",
   "execution_count": 58,
   "id": "2f774b43",
   "metadata": {},
   "outputs": [
    {
     "name": "stdout",
     "output_type": "stream",
     "text": [
      "True\n",
      "True\n"
     ]
    }
   ],
   "source": [
    "import os\n",
    "\n",
    "print(os.path.exists(\"powerpulse_rf_model.pkl\"))  # Should return True if the file exists\n",
    "print(os.path.exists(\"scaler.pkl\"))  # Check for the scaler file\n"
   ]
  },
  {
   "cell_type": "code",
   "execution_count": 59,
   "id": "cbbfb054",
   "metadata": {},
   "outputs": [
    {
     "name": "stdout",
     "output_type": "stream",
     "text": [
      "Model Path: /Users/arul/powerpulse_rf_model.pkl\n",
      "Scaler Path: /Users/arul/scaler.pkl\n"
     ]
    }
   ],
   "source": [
    "import os\n",
    "\n",
    "print(\"Model Path:\", os.path.abspath(\"powerpulse_rf_model.pkl\"))\n",
    "print(\"Scaler Path:\", os.path.abspath(\"scaler.pkl\"))\n"
   ]
  },
  {
   "cell_type": "code",
   "execution_count": 60,
   "id": "be6c6b94",
   "metadata": {},
   "outputs": [
    {
     "name": "stdout",
     "output_type": "stream",
     "text": [
      "Files saved successfully!\n"
     ]
    }
   ],
   "source": [
    "import pickle\n",
    "\n",
    "# Save the model again\n",
    "with open(\"/Users/arul/Documents/VASUKI/projects/powerpulse_rf_model.pkl\", \"wb\") as f:\n",
    "    pickle.dump(rf_model, f)\n",
    "\n",
    "# Save the scaler again\n",
    "with open(\"/Users/arul/Documents/VASUKI/projects/scaler.pkl\", \"wb\") as f:\n",
    "    pickle.dump(scaler, f)\n",
    "\n",
    "print(\"Files saved successfully!\")\n"
   ]
  },
  {
   "cell_type": "code",
   "execution_count": 61,
   "id": "b9d25dda",
   "metadata": {},
   "outputs": [
    {
     "name": "stdout",
     "output_type": "stream",
     "text": [
      "\u001b[34mHousehold energy usage forecast\u001b[m\u001b[m \u001b[34mphonepe\u001b[m\u001b[m\r\n",
      "enev.py                         powerpulse_rf_model.pkl\r\n",
      "\u001b[34mhealthcare_dataset\u001b[m\u001b[m              scaler.pkl\r\n",
      "household_energy.py\r\n"
     ]
    }
   ],
   "source": [
    "!ls /Users/arul/Documents/VASUKI/projects/\n"
   ]
  },
  {
   "cell_type": "code",
   "execution_count": 62,
   "id": "02301485",
   "metadata": {},
   "outputs": [
    {
     "name": "stdout",
     "output_type": "stream",
     "text": [
      "Model and scaler saved successfully!\n"
     ]
    }
   ],
   "source": [
    "import pickle\n",
    "from sklearn.ensemble import RandomForestRegressor\n",
    "from sklearn.preprocessing import StandardScaler\n",
    "\n",
    "# Retrain model\n",
    "rf_model = RandomForestRegressor()\n",
    "rf_model.fit(X_train, y_train)  \n",
    "\n",
    "# Save model\n",
    "with open(\"powerpulse_rf_model.pkl\", \"wb\") as f:\n",
    "    pickle.dump(rf_model, f)\n",
    "\n",
    "# Save scaler\n",
    "scaler = StandardScaler()\n",
    "scaler.fit(X_train)\n",
    "with open(\"scaler.pkl\", \"wb\") as f:\n",
    "    pickle.dump(scaler, f)\n",
    "\n",
    "print(\"Model and scaler saved successfully!\")\n"
   ]
  },
  {
   "cell_type": "code",
   "execution_count": 63,
   "id": "0300489c",
   "metadata": {},
   "outputs": [
    {
     "name": "stdout",
     "output_type": "stream",
     "text": [
      "1.2.2\n"
     ]
    }
   ],
   "source": [
    "import sklearn\n",
    "print(sklearn.__version__)\n",
    "\n"
   ]
  },
  {
   "cell_type": "code",
   "execution_count": 64,
   "id": "bde738c0",
   "metadata": {},
   "outputs": [
    {
     "name": "stdout",
     "output_type": "stream",
     "text": [
      "Model and scaler saved successfully!\n"
     ]
    }
   ],
   "source": [
    "import pickle\n",
    "from sklearn.ensemble import RandomForestRegressor\n",
    "from sklearn.preprocessing import StandardScaler\n",
    "\n",
    "# Train model\n",
    "rf_model = RandomForestRegressor()\n",
    "rf_model.fit(X_train, y_train)  \n",
    "\n",
    "# Save model\n",
    "with open(\"/Users/arul/Documents/VASUKI/projects/powerpulse_rf_model.pkl\", \"wb\") as f:\n",
    "    pickle.dump(rf_model, f)\n",
    "\n",
    "# Save scaler\n",
    "scaler = StandardScaler()\n",
    "scaler.fit(X_train)\n",
    "with open(\"/Users/arul/Documents/VASUKI/projects/scaler.pkl\", \"wb\") as f:\n",
    "    pickle.dump(scaler, f)\n",
    "\n",
    "print(\"Model and scaler saved successfully!\")\n"
   ]
  },
  {
   "cell_type": "code",
   "execution_count": 65,
   "id": "fbd08c94",
   "metadata": {},
   "outputs": [
    {
     "name": "stdout",
     "output_type": "stream",
     "text": [
      "5\n",
      "Index(['Hour', 'Weekday', 'Month', 'Rolling_Mean_3hr', 'Rolling_Mean_6hr'], dtype='object')\n"
     ]
    }
   ],
   "source": [
    "print(X_train.shape[1])  # Number of features used in training\n",
    "print(X_train.columns)  # Names of the features used\n"
   ]
  },
  {
   "cell_type": "code",
   "execution_count": 67,
   "id": "8f405a0a",
   "metadata": {},
   "outputs": [
    {
     "name": "stdout",
     "output_type": "stream",
     "text": [
      "[[25.0, 50.0, 5]]\n"
     ]
    }
   ],
   "source": [
    "temp = 25.0  # Example temperature value\n",
    "humidity = 50.0  # Example humidity value\n",
    "appliances = 5  # Example number of appliances\n",
    "\n",
    "input_data = [[temp, humidity, appliances]]  # Now, it should work\n",
    "print(input_data)\n"
   ]
  },
  {
   "cell_type": "code",
   "execution_count": 69,
   "id": "cbe514bb",
   "metadata": {},
   "outputs": [],
   "source": [
    "import streamlit as st\n"
   ]
  },
  {
   "cell_type": "code",
   "execution_count": 70,
   "id": "6f7a84c6",
   "metadata": {},
   "outputs": [
    {
     "name": "stdout",
     "output_type": "stream",
     "text": [
      "Enter Average Temperature (°C): 33\n",
      "Enter Humidity (%): 2.3\n",
      "Enter Number of Appliances: 3\n",
      "Input Data: [[33.0, 2.3, 3]]\n"
     ]
    }
   ],
   "source": [
    "# Simulating user inputs in Jupyter\n",
    "temp = float(input(\"Enter Average Temperature (°C): \"))\n",
    "humidity = float(input(\"Enter Humidity (%): \"))\n",
    "appliances = int(input(\"Enter Number of Appliances: \"))\n",
    "\n",
    "input_data = [[temp, humidity, appliances]]\n",
    "print(\"Input Data:\", input_data)\n"
   ]
  },
  {
   "cell_type": "code",
   "execution_count": null,
   "id": "b93a51fa",
   "metadata": {},
   "outputs": [],
   "source": []
  },
  {
   "cell_type": "code",
   "execution_count": null,
   "id": "5af3bbc0",
   "metadata": {},
   "outputs": [],
   "source": []
  }
 ],
 "metadata": {
  "kernelspec": {
   "display_name": "Python 3 (ipykernel)",
   "language": "python",
   "name": "python3"
  },
  "language_info": {
   "codemirror_mode": {
    "name": "ipython",
    "version": 3
   },
   "file_extension": ".py",
   "mimetype": "text/x-python",
   "name": "python",
   "nbconvert_exporter": "python",
   "pygments_lexer": "ipython3",
   "version": "3.11.7"
  }
 },
 "nbformat": 4,
 "nbformat_minor": 5
}
